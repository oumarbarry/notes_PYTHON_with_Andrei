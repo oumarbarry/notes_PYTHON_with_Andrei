{
 "cells": [
  {
   "cell_type": "code",
   "execution_count": 11,
   "metadata": {},
   "outputs": [],
   "source": [
    "import re\n",
    "s = \"search box ...\"\n",
    "\"box\" in s #this is the simpliest way to search inside a string\n",
    "\n",
    "reg = re.search(\"box\", s)   \n",
    "reg.span()\n",
    "reg.start()\n",
    "reg.end()\n",
    "reg.group()\n",
    "\n",
    "pattern = re.compile(\"box\")\n",
    "pattern.search(s)\n",
    "pattern.findall(s)\n",
    "pattern.fullmatch(s)\n",
    "pattern.match(s)\n"
   ]
  },
  {
   "cell_type": "raw",
   "metadata": {},
   "source": [
    "the search method:\n",
    "    will return a MatchObject if something get found\n",
    "    otherwise it will return None"
   ]
  },
  {
   "cell_type": "raw",
   "metadata": {},
   "source": [
    "w3schools: Python RegEx\n",
    "regex101.com"
   ]
  },
  {
   "cell_type": "code",
   "execution_count": 15,
   "metadata": {},
   "outputs": [
    {
     "name": "stdout",
     "output_type": "stream",
     "text": [
      "<re.Match object; span=(0, 7), match='o@o.com'>\n"
     ]
    }
   ],
   "source": [
    "#Email Validator:\n",
    "pattern = re.compile(r\"(^[a-zA-Z0-9_.+-]+@[a-zA-Z0-9-]+\\.[a-zA-Z0-9-.]+$)\")\n",
    "s = \"o@o.com\"\n",
    "match = pattern.search(s)\n",
    "print(match)"
   ]
  },
  {
   "cell_type": "code",
   "execution_count": 45,
   "metadata": {},
   "outputs": [
    {
     "name": "stdout",
     "output_type": "stream",
     "text": [
      "<re.Match object; span=(0, 10), match='secrett$9c'>\n"
     ]
    }
   ],
   "source": [
    "#Password Validator:\n",
    "#r\"\" stands for raw string\n",
    "pattern = re.compile(r\"[a-zA-Z0-9%$#@]{8,}\") #r\"[a-zA-Z0-9%$#@]{8,}\\d$\" / r\"[a-zA-Z0-9%$#@]{8,}[0-9]$\"\n",
    "s = \"secrett$9c\"\n",
    "match = pattern.search(s)\n",
    "print(match)"
   ]
  }
 ],
 "metadata": {
  "kernelspec": {
   "display_name": "Python 3",
   "language": "python",
   "name": "python3"
  },
  "language_info": {
   "codemirror_mode": {
    "name": "ipython",
    "version": 3
   },
   "file_extension": ".py",
   "mimetype": "text/x-python",
   "name": "python",
   "nbconvert_exporter": "python",
   "pygments_lexer": "ipython3",
   "version": "3.8.1"
  }
 },
 "nbformat": 4,
 "nbformat_minor": 4
}
